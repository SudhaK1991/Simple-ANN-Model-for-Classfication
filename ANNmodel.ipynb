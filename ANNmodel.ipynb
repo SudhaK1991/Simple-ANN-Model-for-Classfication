{
  "nbformat": 4,
  "nbformat_minor": 0,
  "metadata": {
    "colab": {
      "name": "ANNmodel.ipynb",
      "provenance": []
    },
    "kernelspec": {
      "name": "python3",
      "display_name": "Python 3"
    },
    "accelerator": "GPU"
  },
  "cells": [
    {
      "cell_type": "markdown",
      "metadata": {
        "id": "QXhfUgkWX0fe",
        "colab_type": "text"
      },
      "source": [
        "\n",
        "**Bank Customer's Churn Classification**\n",
        "\n",
        "\n",
        "Classifying bank customers based on their previous bank activities, that they will exit/leave the bank or not.\n",
        "\n",
        "Dataset: https://www.kaggle.com/shrutimechlearn/churn-modelling"
      ]
    },
    {
      "cell_type": "code",
      "metadata": {
        "id": "O6XjdiYE8jBV",
        "colab_type": "code",
        "colab": {
          "base_uri": "https://localhost:8080/",
          "height": 207
        },
        "outputId": "a2c9945c-b597-4a69-9466-200d8aedc4f5"
      },
      "source": [
        "pip install -U scikit-learn==0.20"
      ],
      "execution_count": 1,
      "outputs": [
        {
          "output_type": "stream",
          "text": [
            "Collecting scikit-learn==0.20\n",
            "\u001b[?25l  Downloading https://files.pythonhosted.org/packages/0c/b2/05be9b6da9ae4a4c54f537be22e95833f722742a02b1e355fdc09363877c/scikit_learn-0.20.0-cp36-cp36m-manylinux1_x86_64.whl (5.3MB)\n",
            "\u001b[K     |████████████████████████████████| 5.3MB 6.0MB/s \n",
            "\u001b[?25hRequirement already satisfied, skipping upgrade: scipy>=0.13.3 in /usr/local/lib/python3.6/dist-packages (from scikit-learn==0.20) (1.4.1)\n",
            "Requirement already satisfied, skipping upgrade: numpy>=1.8.2 in /usr/local/lib/python3.6/dist-packages (from scikit-learn==0.20) (1.18.5)\n",
            "Installing collected packages: scikit-learn\n",
            "  Found existing installation: scikit-learn 0.22.2.post1\n",
            "    Uninstalling scikit-learn-0.22.2.post1:\n",
            "      Successfully uninstalled scikit-learn-0.22.2.post1\n",
            "Successfully installed scikit-learn-0.20.0\n"
          ],
          "name": "stdout"
        }
      ]
    },
    {
      "cell_type": "code",
      "metadata": {
        "id": "0a5nMs1W7Lm9",
        "colab_type": "code",
        "colab": {
          "base_uri": "https://localhost:8080/",
          "height": 1000
        },
        "outputId": "a962f34b-7bbe-4101-ff0e-b21cf21370af"
      },
      "source": [
        "import numpy as np\n",
        "import matplotlib.pyplot as plt\n",
        "import pandas as pd\n",
        "\n",
        "#Exploring the dataset\n",
        "dataset=pd.read_csv('/content/drive/My Drive/Churn_Modelling.csv')\n",
        "x=dataset.iloc[:, 3:13].values \n",
        "y=dataset.iloc[:, 13].values\n",
        "\n",
        "#Feature Engineering\n",
        "from sklearn.preprocessing import LabelEncoder, OneHotEncoder\n",
        "labelencoder_x_1=LabelEncoder()\n",
        "x[:, 1]=labelencoder_x_1.fit_transform(x[:, 1])\n",
        "\n",
        "labelencoder_x_2=LabelEncoder()\n",
        "x[:, 2]=labelencoder_x_2.fit_transform(x[:, 2])\n",
        "\n",
        "Onehotencoder=OneHotEncoder(categorical_features=[1])\n",
        "x=Onehotencoder.fit_transform(x).toarray()\n",
        "x=x[:, 1:]\n",
        "\n",
        "# Data Pre-Processing\n",
        "\n",
        "from sklearn.model_selection import train_test_split\n",
        "x_train, x_test, y_train, y_test=train_test_split(x, y, test_size=0.2, random_state=0)\n",
        "print('X_train size: {}, X_test size: {}'.format(x_train.shape, x_test.shape))\n",
        "\n",
        "from sklearn.preprocessing import StandardScaler\n",
        "sc= StandardScaler()\n",
        "x_train=sc.fit_transform(x_train)\n",
        "x_test=sc.fit_transform(x_test)\n",
        "\n",
        "\n",
        "#Building Artificial Neural Network (ANN)\n",
        "\n",
        "import keras\n",
        "from keras.models import Sequential\n",
        "from keras.layers import Dense\n",
        "\n",
        "classifier=Sequential()\n",
        "\n",
        "classifier.add(Dense(units=6, kernel_initializer='uniform', activation='relu', input_dim=11))\n",
        "\n",
        "classifier.add(Dense(units=6, kernel_initializer='uniform', activation='relu'))\n",
        "\n",
        "classifier.add(Dense(units=1, kernel_initializer='uniform', activation='sigmoid'))\n",
        "\n",
        "classifier.compile(optimizer='adam', loss='binary_crossentropy', metrics=['accuracy'])\n",
        "\n",
        "classifier.fit(x_train, y_train, batch_size=10, epochs=100)"
      ],
      "execution_count": 2,
      "outputs": [
        {
          "output_type": "stream",
          "text": [
            "/usr/local/lib/python3.6/dist-packages/sklearn/preprocessing/_encoders.py:363: FutureWarning: The handling of integer data will change in version 0.22. Currently, the categories are determined based on the range [0, max(values)], while in the future they will be determined based on the unique values.\n",
            "If you want the future behaviour and silence this warning, you can specify \"categories='auto'\".\n",
            "In case you used a LabelEncoder before this OneHotEncoder to convert the categories to integers, then you can now use the OneHotEncoder directly.\n",
            "  warnings.warn(msg, FutureWarning)\n",
            "/usr/local/lib/python3.6/dist-packages/sklearn/preprocessing/_encoders.py:385: DeprecationWarning: The 'categorical_features' keyword is deprecated in version 0.20 and will be removed in 0.22. You can use the ColumnTransformer instead.\n",
            "  \"use the ColumnTransformer instead.\", DeprecationWarning)\n",
            "Using TensorFlow backend.\n"
          ],
          "name": "stderr"
        },
        {
          "output_type": "stream",
          "text": [
            "X_train size: (8000, 11), X_test size: (2000, 11)\n",
            "Epoch 1/100\n",
            "8000/8000 [==============================] - 4s 504us/step - loss: 0.4910 - accuracy: 0.7955\n",
            "Epoch 2/100\n",
            "8000/8000 [==============================] - 2s 290us/step - loss: 0.4097 - accuracy: 0.8091\n",
            "Epoch 3/100\n",
            "8000/8000 [==============================] - 3s 335us/step - loss: 0.3806 - accuracy: 0.8326\n",
            "Epoch 4/100\n",
            "8000/8000 [==============================] - 2s 279us/step - loss: 0.3615 - accuracy: 0.8544\n",
            "Epoch 5/100\n",
            "8000/8000 [==============================] - 2s 275us/step - loss: 0.3532 - accuracy: 0.8581\n",
            "Epoch 6/100\n",
            "8000/8000 [==============================] - 2s 278us/step - loss: 0.3489 - accuracy: 0.8556\n",
            "Epoch 7/100\n",
            "8000/8000 [==============================] - 2s 293us/step - loss: 0.3475 - accuracy: 0.8587\n",
            "Epoch 8/100\n",
            "8000/8000 [==============================] - 2s 285us/step - loss: 0.3462 - accuracy: 0.8571\n",
            "Epoch 9/100\n",
            "8000/8000 [==============================] - 2s 274us/step - loss: 0.3454 - accuracy: 0.8593\n",
            "Epoch 10/100\n",
            "8000/8000 [==============================] - 2s 272us/step - loss: 0.3444 - accuracy: 0.8585\n",
            "Epoch 11/100\n",
            "8000/8000 [==============================] - 2s 275us/step - loss: 0.3435 - accuracy: 0.8586\n",
            "Epoch 12/100\n",
            "8000/8000 [==============================] - 2s 281us/step - loss: 0.3422 - accuracy: 0.8589\n",
            "Epoch 13/100\n",
            "8000/8000 [==============================] - 2s 291us/step - loss: 0.3414 - accuracy: 0.8601\n",
            "Epoch 14/100\n",
            "8000/8000 [==============================] - 2s 280us/step - loss: 0.3411 - accuracy: 0.8615\n",
            "Epoch 15/100\n",
            "8000/8000 [==============================] - 2s 287us/step - loss: 0.3408 - accuracy: 0.8615\n",
            "Epoch 16/100\n",
            "8000/8000 [==============================] - 2s 276us/step - loss: 0.3403 - accuracy: 0.8606\n",
            "Epoch 17/100\n",
            "8000/8000 [==============================] - 2s 276us/step - loss: 0.3400 - accuracy: 0.8614\n",
            "Epoch 18/100\n",
            "8000/8000 [==============================] - 2s 287us/step - loss: 0.3396 - accuracy: 0.8608\n",
            "Epoch 19/100\n",
            "8000/8000 [==============================] - 2s 273us/step - loss: 0.3397 - accuracy: 0.8622\n",
            "Epoch 20/100\n",
            "8000/8000 [==============================] - 2s 288us/step - loss: 0.3394 - accuracy: 0.8606\n",
            "Epoch 21/100\n",
            "8000/8000 [==============================] - 2s 280us/step - loss: 0.3388 - accuracy: 0.8626\n",
            "Epoch 22/100\n",
            "8000/8000 [==============================] - 2s 289us/step - loss: 0.3385 - accuracy: 0.8614\n",
            "Epoch 23/100\n",
            "8000/8000 [==============================] - 2s 295us/step - loss: 0.3386 - accuracy: 0.8610\n",
            "Epoch 24/100\n",
            "8000/8000 [==============================] - 2s 275us/step - loss: 0.3382 - accuracy: 0.8609\n",
            "Epoch 25/100\n",
            "8000/8000 [==============================] - 2s 285us/step - loss: 0.3381 - accuracy: 0.8608\n",
            "Epoch 26/100\n",
            "8000/8000 [==============================] - 2s 294us/step - loss: 0.3382 - accuracy: 0.8625\n",
            "Epoch 27/100\n",
            "8000/8000 [==============================] - 2s 290us/step - loss: 0.3380 - accuracy: 0.8624\n",
            "Epoch 28/100\n",
            "8000/8000 [==============================] - 2s 284us/step - loss: 0.3375 - accuracy: 0.8612\n",
            "Epoch 29/100\n",
            "8000/8000 [==============================] - 2s 275us/step - loss: 0.3375 - accuracy: 0.8631\n",
            "Epoch 30/100\n",
            "8000/8000 [==============================] - 2s 290us/step - loss: 0.3376 - accuracy: 0.8624\n",
            "Epoch 31/100\n",
            "8000/8000 [==============================] - 3s 313us/step - loss: 0.3372 - accuracy: 0.8624\n",
            "Epoch 32/100\n",
            "8000/8000 [==============================] - 2s 291us/step - loss: 0.3373 - accuracy: 0.8627\n",
            "Epoch 33/100\n",
            "8000/8000 [==============================] - 2s 271us/step - loss: 0.3365 - accuracy: 0.8631\n",
            "Epoch 34/100\n",
            "8000/8000 [==============================] - 3s 316us/step - loss: 0.3371 - accuracy: 0.8620\n",
            "Epoch 35/100\n",
            "8000/8000 [==============================] - 2s 280us/step - loss: 0.3362 - accuracy: 0.8637\n",
            "Epoch 36/100\n",
            "8000/8000 [==============================] - 2s 271us/step - loss: 0.3373 - accuracy: 0.8624\n",
            "Epoch 37/100\n",
            "8000/8000 [==============================] - 2s 293us/step - loss: 0.3361 - accuracy: 0.8620\n",
            "Epoch 38/100\n",
            "8000/8000 [==============================] - 2s 274us/step - loss: 0.3364 - accuracy: 0.8630\n",
            "Epoch 39/100\n",
            "8000/8000 [==============================] - 2s 279us/step - loss: 0.3362 - accuracy: 0.8621\n",
            "Epoch 40/100\n",
            "8000/8000 [==============================] - 2s 282us/step - loss: 0.3368 - accuracy: 0.8641\n",
            "Epoch 41/100\n",
            "8000/8000 [==============================] - 2s 289us/step - loss: 0.3361 - accuracy: 0.8618\n",
            "Epoch 42/100\n",
            "8000/8000 [==============================] - 2s 277us/step - loss: 0.3362 - accuracy: 0.8629\n",
            "Epoch 43/100\n",
            "8000/8000 [==============================] - 2s 267us/step - loss: 0.3358 - accuracy: 0.8615\n",
            "Epoch 44/100\n",
            "8000/8000 [==============================] - 2s 291us/step - loss: 0.3360 - accuracy: 0.8624\n",
            "Epoch 45/100\n",
            "8000/8000 [==============================] - 2s 278us/step - loss: 0.3358 - accuracy: 0.8619\n",
            "Epoch 46/100\n",
            "8000/8000 [==============================] - 2s 271us/step - loss: 0.3364 - accuracy: 0.8629\n",
            "Epoch 47/100\n",
            "8000/8000 [==============================] - 2s 292us/step - loss: 0.3363 - accuracy: 0.8618\n",
            "Epoch 48/100\n",
            "8000/8000 [==============================] - 2s 270us/step - loss: 0.3364 - accuracy: 0.8624\n",
            "Epoch 49/100\n",
            "8000/8000 [==============================] - 2s 272us/step - loss: 0.3360 - accuracy: 0.8627\n",
            "Epoch 50/100\n",
            "8000/8000 [==============================] - 2s 280us/step - loss: 0.3362 - accuracy: 0.8611\n",
            "Epoch 51/100\n",
            "8000/8000 [==============================] - 2s 289us/step - loss: 0.3360 - accuracy: 0.8643\n",
            "Epoch 52/100\n",
            "8000/8000 [==============================] - 2s 272us/step - loss: 0.3358 - accuracy: 0.8622\n",
            "Epoch 53/100\n",
            "8000/8000 [==============================] - 2s 277us/step - loss: 0.3361 - accuracy: 0.8629\n",
            "Epoch 54/100\n",
            "8000/8000 [==============================] - 2s 298us/step - loss: 0.3357 - accuracy: 0.8633\n",
            "Epoch 55/100\n",
            "8000/8000 [==============================] - 2s 279us/step - loss: 0.3352 - accuracy: 0.8641\n",
            "Epoch 56/100\n",
            "8000/8000 [==============================] - 2s 279us/step - loss: 0.3357 - accuracy: 0.8626\n",
            "Epoch 57/100\n",
            "8000/8000 [==============================] - 2s 270us/step - loss: 0.3355 - accuracy: 0.8634\n",
            "Epoch 58/100\n",
            "8000/8000 [==============================] - 3s 331us/step - loss: 0.3363 - accuracy: 0.8634\n",
            "Epoch 59/100\n",
            "8000/8000 [==============================] - 2s 286us/step - loss: 0.3360 - accuracy: 0.8619\n",
            "Epoch 60/100\n",
            "8000/8000 [==============================] - 2s 289us/step - loss: 0.3355 - accuracy: 0.8635\n",
            "Epoch 61/100\n",
            "8000/8000 [==============================] - 2s 276us/step - loss: 0.3355 - accuracy: 0.8648\n",
            "Epoch 62/100\n",
            "8000/8000 [==============================] - 2s 284us/step - loss: 0.3354 - accuracy: 0.8635\n",
            "Epoch 63/100\n",
            "8000/8000 [==============================] - 3s 321us/step - loss: 0.3352 - accuracy: 0.8640\n",
            "Epoch 64/100\n",
            "8000/8000 [==============================] - 2s 307us/step - loss: 0.3358 - accuracy: 0.8625\n",
            "Epoch 65/100\n",
            "8000/8000 [==============================] - 2s 296us/step - loss: 0.3359 - accuracy: 0.8631\n",
            "Epoch 66/100\n",
            "8000/8000 [==============================] - 2s 273us/step - loss: 0.3356 - accuracy: 0.8640\n",
            "Epoch 67/100\n",
            "8000/8000 [==============================] - 2s 287us/step - loss: 0.3358 - accuracy: 0.8639\n",
            "Epoch 68/100\n",
            "8000/8000 [==============================] - 2s 299us/step - loss: 0.3356 - accuracy: 0.8635\n",
            "Epoch 69/100\n",
            "8000/8000 [==============================] - 2s 285us/step - loss: 0.3353 - accuracy: 0.8624\n",
            "Epoch 70/100\n",
            "8000/8000 [==============================] - 2s 308us/step - loss: 0.3351 - accuracy: 0.8610\n",
            "Epoch 71/100\n",
            "8000/8000 [==============================] - 2s 300us/step - loss: 0.3359 - accuracy: 0.8619\n",
            "Epoch 72/100\n",
            "8000/8000 [==============================] - 2s 272us/step - loss: 0.3351 - accuracy: 0.8614\n",
            "Epoch 73/100\n",
            "8000/8000 [==============================] - 2s 278us/step - loss: 0.3351 - accuracy: 0.8629\n",
            "Epoch 74/100\n",
            "8000/8000 [==============================] - 2s 273us/step - loss: 0.3354 - accuracy: 0.8622\n",
            "Epoch 75/100\n",
            "8000/8000 [==============================] - 2s 284us/step - loss: 0.3354 - accuracy: 0.8636\n",
            "Epoch 76/100\n",
            "8000/8000 [==============================] - 2s 291us/step - loss: 0.3350 - accuracy: 0.8635\n",
            "Epoch 77/100\n",
            "8000/8000 [==============================] - 2s 271us/step - loss: 0.3350 - accuracy: 0.8630\n",
            "Epoch 78/100\n",
            "8000/8000 [==============================] - 2s 280us/step - loss: 0.3350 - accuracy: 0.8627\n",
            "Epoch 79/100\n",
            "8000/8000 [==============================] - 2s 288us/step - loss: 0.3350 - accuracy: 0.8626\n",
            "Epoch 80/100\n",
            "8000/8000 [==============================] - 2s 268us/step - loss: 0.3353 - accuracy: 0.8633\n",
            "Epoch 81/100\n",
            "8000/8000 [==============================] - 2s 270us/step - loss: 0.3354 - accuracy: 0.8625\n",
            "Epoch 82/100\n",
            "8000/8000 [==============================] - 2s 273us/step - loss: 0.3348 - accuracy: 0.8624\n",
            "Epoch 83/100\n",
            "8000/8000 [==============================] - 2s 266us/step - loss: 0.3353 - accuracy: 0.8624\n",
            "Epoch 84/100\n",
            "8000/8000 [==============================] - 2s 286us/step - loss: 0.3350 - accuracy: 0.8640\n",
            "Epoch 85/100\n",
            "8000/8000 [==============================] - 2s 286us/step - loss: 0.3350 - accuracy: 0.8648\n",
            "Epoch 86/100\n",
            "8000/8000 [==============================] - 2s 282us/step - loss: 0.3353 - accuracy: 0.8644\n",
            "Epoch 87/100\n",
            "8000/8000 [==============================] - 2s 286us/step - loss: 0.3346 - accuracy: 0.8620\n",
            "Epoch 88/100\n",
            "8000/8000 [==============================] - 2s 269us/step - loss: 0.3351 - accuracy: 0.8641\n",
            "Epoch 89/100\n",
            "8000/8000 [==============================] - 2s 279us/step - loss: 0.3348 - accuracy: 0.8626\n",
            "Epoch 90/100\n",
            "8000/8000 [==============================] - 2s 307us/step - loss: 0.3349 - accuracy: 0.8621\n",
            "Epoch 91/100\n",
            "8000/8000 [==============================] - 2s 305us/step - loss: 0.3350 - accuracy: 0.8624\n",
            "Epoch 92/100\n",
            "8000/8000 [==============================] - 2s 306us/step - loss: 0.3353 - accuracy: 0.8620\n",
            "Epoch 93/100\n",
            "8000/8000 [==============================] - 2s 294us/step - loss: 0.3344 - accuracy: 0.8644\n",
            "Epoch 94/100\n",
            "8000/8000 [==============================] - 2s 285us/step - loss: 0.3345 - accuracy: 0.8620\n",
            "Epoch 95/100\n",
            "8000/8000 [==============================] - 2s 278us/step - loss: 0.3349 - accuracy: 0.8640\n",
            "Epoch 96/100\n",
            "8000/8000 [==============================] - 2s 273us/step - loss: 0.3353 - accuracy: 0.8631\n",
            "Epoch 97/100\n",
            "8000/8000 [==============================] - 2s 310us/step - loss: 0.3347 - accuracy: 0.8627\n",
            "Epoch 98/100\n",
            "8000/8000 [==============================] - 2s 307us/step - loss: 0.3344 - accuracy: 0.8645\n",
            "Epoch 99/100\n",
            "8000/8000 [==============================] - 2s 288us/step - loss: 0.3355 - accuracy: 0.8631\n",
            "Epoch 100/100\n",
            "8000/8000 [==============================] - 2s 288us/step - loss: 0.3347 - accuracy: 0.8620\n"
          ],
          "name": "stdout"
        },
        {
          "output_type": "execute_result",
          "data": {
            "text/plain": [
              "<keras.callbacks.callbacks.History at 0x7faa6cd1c748>"
            ]
          },
          "metadata": {
            "tags": []
          },
          "execution_count": 2
        }
      ]
    },
    {
      "cell_type": "markdown",
      "metadata": {
        "id": "xU1yIbTuY-Ql",
        "colab_type": "text"
      },
      "source": [
        "**Model Evaluation**"
      ]
    },
    {
      "cell_type": "code",
      "metadata": {
        "id": "3mU8wtHb91x8",
        "colab_type": "code",
        "colab": {}
      },
      "source": [
        "y_pred=classifier.predict(x_test)\n",
        "y_pred=y_pred>0.5"
      ],
      "execution_count": 3,
      "outputs": []
    },
    {
      "cell_type": "code",
      "metadata": {
        "id": "mVMTEJ-I91KI",
        "colab_type": "code",
        "colab": {
          "base_uri": "https://localhost:8080/",
          "height": 51
        },
        "outputId": "5a330ca4-7294-491d-8ca8-afffc8455d7b"
      },
      "source": [
        "from sklearn.metrics import confusion_matrix\n",
        "cm=confusion_matrix(y_test, y_pred)\n",
        "cm"
      ],
      "execution_count": 4,
      "outputs": [
        {
          "output_type": "execute_result",
          "data": {
            "text/plain": [
              "array([[1509,   86],\n",
              "       [ 200,  205]])"
            ]
          },
          "metadata": {
            "tags": []
          },
          "execution_count": 4
        }
      ]
    },
    {
      "cell_type": "code",
      "metadata": {
        "id": "O5rGnN3FNu-i",
        "colab_type": "code",
        "colab": {
          "base_uri": "https://localhost:8080/",
          "height": 34
        },
        "outputId": "1fcf486f-4b03-4ab8-99dc-285571559e72"
      },
      "source": [
        "from sklearn.metrics import accuracy_score\n",
        "score = accuracy_score(y_pred,y_test)\n",
        "print('The accuracy for ANN model is: {}%'.format(score*100))"
      ],
      "execution_count": 5,
      "outputs": [
        {
          "output_type": "stream",
          "text": [
            "The accuracy for ANN model is: 85.7%\n"
          ],
          "name": "stdout"
        }
      ]
    }
  ]
}